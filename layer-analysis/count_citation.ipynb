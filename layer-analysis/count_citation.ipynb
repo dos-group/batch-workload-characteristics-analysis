{
 "cells": [
  {
   "cell_type": "code",
   "execution_count": 14,
   "metadata": {},
   "outputs": [
    {
     "name": "stdout",
     "output_type": "stream",
     "text": [
      "Table has been saved to parameters_citations_table.csv\n"
     ]
    },
    {
     "name": "stderr",
     "output_type": "stream",
     "text": [
      "/tmp/ipykernel_36629/4264714087.py:11: FutureWarning: Series.__getitem__ treating keys as positions is deprecated. In a future version, integer keys will always be treated as labels (consistent with DataFrame behavior). To access a value by position, use `ser.iloc[pos]`\n",
      "  citations = row[-2]\n",
      "/tmp/ipykernel_36629/4264714087.py:12: FutureWarning: Series.__getitem__ treating keys as positions is deprecated. In a future version, integer keys will always be treated as labels (consistent with DataFrame behavior). To access a value by position, use `ser.iloc[pos]`\n",
      "  parameters = str(row[-1]).split(', ')\n"
     ]
    }
   ],
   "source": [
    "import pandas as pd\n",
    "\n",
    "# Load the CSV file\n",
    "file_path = 'data/layers.csv'  # Adjust this path if necessary\n",
    "layers_df = pd.read_csv(file_path)\n",
    "\n",
    "# Extract parameters and their corresponding citations\n",
    "parameters_citations = {}\n",
    "\n",
    "for index, row in layers_df.iterrows():\n",
    "    citations = row[-2]\n",
    "    parameters = str(row[-1]).split(', ')\n",
    "    for parameter in parameters:\n",
    "        if parameter not in parameters_citations:\n",
    "            parameters_citations[parameter] = {'count': 0, 'citations': set()}\n",
    "        parameters_citations[parameter]['count'] += 1\n",
    "        parameters_citations[parameter]['citations'].add(f\"\\\\cite{{{citations}}}\")\n",
    "\n",
    "# Convert the dictionary to a dataframe\n",
    "parameters_list = []\n",
    "for parameter, data in parameters_citations.items():\n",
    "    parameters_list.append({\n",
    "        'Parameter Name': parameter,\n",
    "        'Count': data['count'],\n",
    "        'Citations': \", \".join(data['citations'])\n",
    "    })\n",
    "\n",
    "citations_table_df = pd.DataFrame(parameters_list)\n",
    "\n",
    "# Add the header\n",
    "citations_table_df.columns = ['Parameter Name', 'Count', 'Citations']\n",
    "\n",
    "# Load the CSV files\n",
    "parameters_df = pd.read_csv('data/parameters.csv')\n",
    "\n",
    "# Strip any whitespace from the column names and values\n",
    "parameters_df.columns = parameters_df.columns.str.strip()\n",
    "parameters_df['# Parameter'] = parameters_df['# Parameter'].str.strip()\n",
    "parameters_df['Layer'] = parameters_df['Layer'].str.strip()\n",
    "\n",
    "citations_table_df.columns = citations_table_df.columns.str.strip()\n",
    "citations_table_df['Parameter Name'] = citations_table_df['Parameter Name'].str.strip()\n",
    "\n",
    "# Merge the dataframes based on the 'Parameter Name' column\n",
    "merged_df = pd.merge(citations_table_df, parameters_df[['# Parameter', 'Layer']], left_on='Parameter Name', right_on='# Parameter', how='left')\n",
    "\n",
    "# Drop the '# Parameter' column as it's redundant after the merge\n",
    "merged_df.drop(columns=['# Parameter'], inplace=True)\n",
    "\n",
    "# Save the merged dataframe to a new CSV file\n",
    "output_file_path = 'parameters_citations_table.csv'\n",
    "merged_df.to_csv(output_file_path, index=False)\n",
    "print(f'Table has been saved to {output_file_path}')\n"
   ]
  }
 ],
 "metadata": {
  "kernelspec": {
   "display_name": "Python 3",
   "language": "python",
   "name": "python3"
  },
  "language_info": {
   "codemirror_mode": {
    "name": "ipython",
    "version": 3
   },
   "file_extension": ".py",
   "mimetype": "text/x-python",
   "name": "python",
   "nbconvert_exporter": "python",
   "pygments_lexer": "ipython3",
   "version": "3.9.2"
  }
 },
 "nbformat": 4,
 "nbformat_minor": 2
}
