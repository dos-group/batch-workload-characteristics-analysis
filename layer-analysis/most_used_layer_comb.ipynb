{
 "cells": [
  {
   "cell_type": "code",
   "execution_count": 3,
   "metadata": {},
   "outputs": [
    {
     "name": "stdout",
     "output_type": "stream",
     "text": [
      "                                                                   Combination  Count\n",
      "                                    Big Data Framework Layer,Performance Layer     10\n",
      "                                                      Big Data Framework Layer      7\n",
      "                            Big Data Framework Layer,Hardware Layer,Data Layer      5\n",
      "                     Big Data Framework Layer,Performance Layer,Hardware Layer      4\n",
      "                                                     Hardware Layer,Data Layer      3\n",
      "                                           Big Data Framework Layer,Data Layer      3\n",
      "          Big Data Framework Layer,Performance Layer,Hardware Layer,Data Layer      3\n",
      "                                              Performance Layer,Hardware Layer      2\n",
      "                                   Performance Layer,Hardware Layer,Data Layer      2\n",
      "                               Big Data Framework Layer,User Application Layer      2\n",
      "                              Hardware Layer,Data Layer,User Application Layer      2\n",
      "     Big Data Framework Layer,Hardware Layer,Data Layer,User Application Layer      2\n",
      "                         Big Data Framework Layer,Performance Layer,Data Layer      1\n",
      "                                          Cloud Layer,Big Data Framework Layer      1\n",
      "                                      Performance Layer,User Application Layer      1\n",
      "  JVM Layer,Performance Layer,Hardware Layer,Data Layer,User Application Layer      1\n",
      "               JVM Layer,Big Data Framework Layer,Performance Layer,Data Layer      1\n",
      "                                        Performance Layer,Virtualisation Layer      1\n",
      "                                                  Performance Layer,Data Layer      1\n",
      "             Big Data Framework Layer,Performance Layer,User Application Layer      1\n",
      "                         Virtualisation Layer,Performance Layer,Hardware Layer      1\n",
      "                                                             Performance Layer      1\n",
      "                     Cloud Layer,JVM Layer,Big Data Framework Layer,Data Layer      1\n",
      "            Performance Layer,Hardware Layer,Data Layer,User Application Layer      1\n",
      "                                       Big Data Framework Layer,Hardware Layer      1\n",
      "                                                    Cloud Layer,Hardware Layer      1\n",
      "                Big Data Framework Layer,Hardware Layer,User Application Layer      1\n",
      "JVM Layer,Big Data Framework Layer,Performance Layer,Hardware Layer,Data Layer      1\n",
      "                    User Application Layer,Big Data Framework Layer,Data Layer      1\n"
     ]
    }
   ],
   "source": [
    "import pandas as pd\n",
    "from collections import Counter\n",
    "import matplotlib.pyplot as plt\n",
    "\n",
    "# Load the data from the CSV file\n",
    "layers_df = pd.read_csv(\"data/layers.csv\")\n",
    "\n",
    "# Rename the columns for clarity\n",
    "layers_df.columns = [\"Title\", \"Year\", \"Layers\", \"BibTex id\", \"Parameters\"]\n",
    "\n",
    "# Split the layers and count the combinations\n",
    "layers_df['Layers'] = layers_df['Layers'].str.split(',')\n",
    "layer_combinations = layers_df['Layers'].apply(lambda x: tuple(sorted(x)))\n",
    "combination_counts = Counter(layer_combinations)\n",
    "\n",
    "# Convert to DataFrame for plotting and get top 10 combinations\n",
    "combination_df = pd.DataFrame(combination_counts.items(), columns=['Combination', 'Count']).sort_values(by='Count', ascending=False)\n",
    "\n",
    "# Prepare the labels\n",
    "combination_df['Combination'] = combination_df['Combination'].apply(lambda x: ', '.join(x))\n",
    "\n",
    "# Display the table\n",
    "print(combination_df.to_string(index=False))\n"
   ]
  }
 ],
 "metadata": {
  "kernelspec": {
   "display_name": "Python 3",
   "language": "python",
   "name": "python3"
  },
  "language_info": {
   "codemirror_mode": {
    "name": "ipython",
    "version": 3
   },
   "file_extension": ".py",
   "mimetype": "text/x-python",
   "name": "python",
   "nbconvert_exporter": "python",
   "pygments_lexer": "ipython3",
   "version": "3.9.2"
  }
 },
 "nbformat": 4,
 "nbformat_minor": 2
}
