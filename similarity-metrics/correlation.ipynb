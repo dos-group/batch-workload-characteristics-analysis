{
 "cells": [
  {
   "cell_type": "code",
   "execution_count": 2,
   "metadata": {},
   "outputs": [
    {
     "name": "stdout",
     "output_type": "stream",
     "text": [
      "Correlation: -0.4647228621445987\n",
      "P-value: 0.02213778662284923\n"
     ]
    }
   ],
   "source": [
    "import pandas as pd\n",
    "from scipy.stats import pearsonr\n",
    "\n",
    "# Create the data\n",
    "data = {\n",
    "    \"Application\": [\n",
    "        \"K-Means\", \"K-Means\", \"PageRank\", \"PageRank\", \"Terasort\", \"Terasort\", \n",
    "        \"DFSIOE\", \"DFSIOE\", \"K-Means\", \"K-Means\", \"PageRank\", \"PageRank\",\n",
    "        \"Terasort\", \"Terasort\", \"DFSIOE\", \"DFSIOE\", \"K-Means\", \"K-Means\", \n",
    "        \"PageRank\", \"PageRank\", \"Terasort\", \"DFSIOE\", \"K-Means\", \"PageRank\"\n",
    "    ],\n",
    "    \"Similarity Score\": [\n",
    "        0.99, 0.83, 0.20, 0.73, 0.31, 0.78, 0.14, 0.65, 0.42, 0.62, 0.47, 0.40,\n",
    "        0.43, 0.17, 0.98, 0.12, 0.85, 0.84, 0.29, 0.06, 0.75, 0.76, 0.97, 0.76\n",
    "    ],\n",
    "    \"Time Difference (s)\": [\n",
    "        0.00, 5.00, -511.00, 289.00, 149.00, 44.00, 7981.00, -20.00, -15.00, \n",
    "        15.00, 584.00, -21.00, -76.00, 1319.00, -79.00, 5436.00, -5.00, -5.00, \n",
    "        -301.00, 37430.00, 4.00, 60.00, 0.00, 94.00\n",
    "    ]\n",
    "}\n",
    "\n",
    "\n",
    "# Create DataFrame\n",
    "df = pd.DataFrame(data)\n",
    "\n",
    "# Calculate the correlation\n",
    "correlation, p_value = pearsonr(df[\"Similarity Score\"], df[\"Time Difference (s)\"])\n",
    "\n",
    "print(\"Correlation:\", correlation)\n",
    "print(\"P-value:\", p_value)\n"
   ]
  }
 ],
 "metadata": {
  "kernelspec": {
   "display_name": "Python 3",
   "language": "python",
   "name": "python3"
  },
  "language_info": {
   "codemirror_mode": {
    "name": "ipython",
    "version": 3
   },
   "file_extension": ".py",
   "mimetype": "text/x-python",
   "name": "python",
   "nbconvert_exporter": "python",
   "pygments_lexer": "ipython3",
   "version": "3.9.2"
  }
 },
 "nbformat": 4,
 "nbformat_minor": 2
}
