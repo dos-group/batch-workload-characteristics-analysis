{
 "cells": [
  {
   "cell_type": "code",
   "execution_count": 1,
   "metadata": {},
   "outputs": [
    {
     "name": "stdout",
     "output_type": "stream",
     "text": [
      "          Cosine Similarity\n",
      "dfsioe             0.294004\n",
      "kmeans             0.445941\n",
      "pagerank           0.549399\n",
      "terasort           0.453092\n"
     ]
    }
   ],
   "source": [
    "import numpy as np\n",
    "import pandas as pd\n",
    "import os\n",
    "from sklearn.metrics.pairwise import cosine_similarity\n",
    "\n",
    "# Define the cosine similarity function\n",
    "def cosine_similarity(hist1, hist2):\n",
    "    hist1 = np.array(hist1)\n",
    "    hist2 = np.array(hist2)\n",
    "    dot_product = np.dot(hist1, hist2)\n",
    "    norm_hist1 = np.linalg.norm(hist1)\n",
    "    norm_hist2 = np.linalg.norm(hist2)\n",
    "    similarity = dot_product / (norm_hist1 * norm_hist2)\n",
    "    return similarity\n",
    "\n",
    "# Define the directories and metrics\n",
    "folder1 = 'baseline'\n",
    "folder2 = 'low'\n",
    "output_base_dir = os.path.join(os.getcwd(), 'median')\n",
    "\n",
    "metrics = {\n",
    "    'cpu_usage_report_combined_median.csv': '%cpu_utilization',\n",
    "    'memory_usage_report_combined_median.csv': '%memused',\n",
    "}\n",
    "\n",
    "# Function to create histogram from file\n",
    "def create_histogram(folder, application):\n",
    "    hist = []\n",
    "    for report, metric in metrics.items():\n",
    "        file_path = os.path.join(output_base_dir, folder, report)\n",
    "        if os.path.exists(file_path):\n",
    "            df = pd.read_csv(file_path, sep=';')\n",
    "            df_app = df[df['application'] == application]\n",
    "            if not df_app.empty:\n",
    "                hist.extend(df_app[metric].values)\n",
    "            else:\n",
    "                print(f\"No data for application {application} in {file_path}.\")\n",
    "        else:\n",
    "            print(f\"File {file_path} does not exist.\")\n",
    "    return hist\n",
    "\n",
    "# Function to pad histograms to the same length\n",
    "def pad_histograms(hist1, hist2):\n",
    "    max_len = max(len(hist1), len(hist2))\n",
    "    if len(hist1) < max_len:\n",
    "        hist1 = np.pad(hist1, (0, max_len - len(hist1)), 'constant')\n",
    "    if len(hist2) < max_len:\n",
    "        hist2 = np.pad(hist2, (0, max_len - len(hist2)), 'constant')\n",
    "    return hist1, hist2\n",
    "\n",
    "# Load the CSV files to get application list\n",
    "cpu_usage_df = pd.read_csv(os.path.join(output_base_dir, folder1, 'cpu_usage_report_combined_median.csv'), sep=';')\n",
    "applications = cpu_usage_df['application'].unique()\n",
    "\n",
    "# Dictionary to store similarity results\n",
    "similarity_results = {}\n",
    "\n",
    "# Calculate similarity for each application\n",
    "for app in applications:\n",
    "    hist1 = create_histogram(folder1, app)\n",
    "    hist2 = create_histogram(folder2, app)\n",
    "    \n",
    "    if hist1 and hist2:\n",
    "        hist1, hist2 = pad_histograms(hist1, hist2)\n",
    "        similarity = cosine_similarity(hist1, hist2)\n",
    "        similarity_results[app] = similarity\n",
    "    else:\n",
    "        print(f\"Histograms for application {app} could not be created due to missing data.\")\n",
    "\n",
    "# Convert similarity results to DataFrame for display\n",
    "similarity_df = pd.DataFrame.from_dict(similarity_results, orient='index', columns=['Cosine Similarity'])\n",
    "\n",
    "# Display the similarity matrix\n",
    "print(similarity_df)\n"
   ]
  }
 ],
 "metadata": {
  "kernelspec": {
   "display_name": "Python 3",
   "language": "python",
   "name": "python3"
  },
  "language_info": {
   "codemirror_mode": {
    "name": "ipython",
    "version": 3
   },
   "file_extension": ".py",
   "mimetype": "text/x-python",
   "name": "python",
   "nbconvert_exporter": "python",
   "pygments_lexer": "ipython3",
   "version": "3.9.2"
  }
 },
 "nbformat": 4,
 "nbformat_minor": 2
}
